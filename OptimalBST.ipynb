{
 "metadata": {
  "name": "OptimalBST"
 }, 
 "nbformat": 2, 
 "worksheets": [
  {
   "cells": [
    {
     "cell_type": "code", 
     "collapsed": false, 
     "input": [
      "frequencies = [.05,.4,.08,.04,.1,.1,.23]", 
      "n = len(frequencies)", 
      "", 
      "A = zeros((n,n))", 
      "for s in xrange(n)", 
      "    for j in xrange(n):", 
      "        i = j+1", 
      "        data = zeros(i+s)", 
      "        sumProb = 0", 
      "        for m in xrange(s):", 
      "            ", 
      "            k = i+m", 
      "            sumProb += frequencies[k]", 
      "        print s,sumProb", 
      "        for n in xrange(s+1):", 
      "            r=i+n", 
      "            data[n] = sumProb", 
      "            if(i < n):", 
      "                data[n] += A[i,r-1]", 
      "            if(r+1 < n):", 
      "                data[n]+=A[r+1,s+i]", 
      "        print data", 
      "        if(i<n):", 
      "            A[i,i+s] = min(data)"
     ], 
     "language": "python", 
     "outputs": [
      {
       "output_type": "stream", 
       "stream": "stdout", 
       "text": [
        "0", 
        "0 0", 
        "[ 0.]", 
        "0 0", 
        "[ 0.  0.]", 
        "0 0", 
        "[ 0.  0.  0.]", 
        "0 0", 
        "[ 0.  0.  0.  0.]", 
        "0 0", 
        "[ 0.  0.  0.  0.  0.]", 
        "0 0", 
        "[ 0.  0.  0.  0.  0.  0.]", 
        "0 0", 
        "[ 0.  0.  0.  0.  0.  0.  0.]", 
        "1", 
        "2", 
        "3", 
        "4", 
        "5", 
        "6"
       ]
      }
     ], 
     "prompt_number": 44
    }, 
    {
     "cell_type": "code", 
     "collapsed": false, 
     "input": [
      "print A"
     ], 
     "language": "python", 
     "outputs": [
      {
       "output_type": "stream", 
       "stream": "stdout", 
       "text": [
        "[[ 0.  0.  0.  0.  0.  0.  0.]", 
        " [ 0.  0.  0.  0.  0.  0.  0.]", 
        " [ 0.  0.  0.  0.  0.  0.  0.]", 
        " [ 0.  0.  0.  0.  0.  0.  0.]", 
        " [ 0.  0.  0.  0.  0.  0.  0.]", 
        " [ 0.  0.  0.  0.  0.  0.  0.]", 
        " [ 0.  0.  0.  0.  0.  0.  0.]]"
       ]
      }
     ], 
     "prompt_number": 39
    }, 
    {
     "cell_type": "code", 
     "collapsed": false, 
     "input": [
      "xrange(10)"
     ], 
     "language": "python", 
     "outputs": [
      {
       "output_type": "pyout", 
       "prompt_number": 28, 
       "text": [
        "xrange(10)"
       ]
      }
     ], 
     "prompt_number": 28
    }, 
    {
     "cell_type": "code", 
     "collapsed": false, 
     "input": [
      "for i in xrange(10):", 
      "    print i+1"
     ], 
     "language": "python", 
     "outputs": [
      {
       "output_type": "stream", 
       "stream": "stdout", 
       "text": [
        "1", 
        "2", 
        "3", 
        "4", 
        "5", 
        "6", 
        "7", 
        "8", 
        "9", 
        "10"
       ]
      }
     ], 
     "prompt_number": 7
    }, 
    {
     "cell_type": "code", 
     "collapsed": false, 
     "input": [
      "print A[0,n]"
     ], 
     "language": "python", 
     "outputs": [
      {
       "output_type": "stream", 
       "stream": "stdout", 
       "text": [
        "0.0"
       ]
      }
     ], 
     "prompt_number": 20
    }, 
    {
     "cell_type": "code", 
     "collapsed": false, 
     "input": [
      "A[2,2]"
     ], 
     "language": "python", 
     "outputs": [
      {
       "output_type": "pyout", 
       "prompt_number": 22, 
       "text": [
        "0.45000000000000001"
       ]
      }
     ], 
     "prompt_number": 22
    }, 
    {
     "cell_type": "code", 
     "collapsed": true, 
     "input": [], 
     "language": "python", 
     "outputs": []
    }
   ]
  }
 ]
}