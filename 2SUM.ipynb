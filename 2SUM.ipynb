{
 "metadata": {
  "name": "2SUM"
 }, 
 "nbformat": 2, 
 "worksheets": [
  {
   "cells": [
    {
     "cell_type": "code", 
     "collapsed": false, 
     "input": [
      "def TwoSum(lst, target):", 
      "    '''", 
      "2-SUM algorithm via hash table.", 
      "O(n) time.", 
      "'''", 
      "    ", 
      "    global hashTable", 
      "    ", 
      "    for x in lst:", 
      "        y = target-x", 
      "        if y in hashTable and x != y:", 
      "            return True", 
      "        ", 
      "    return False"
     ], 
     "language": "python", 
     "outputs": [], 
     "prompt_number": 10
    }, 
    {
     "cell_type": "code", 
     "collapsed": false, 
     "input": [
      "lines = open('2sum.txt').read().splitlines()", 
      "data = map(lambda x: int(x), lines)", 
      "", 
      "hashTable = dict()", 
      "for x in data:", 
      "    hashTable[x] = True", 
      "count = 0", 
      "sorted_data = sorted(data)", 
      "for t in range(-10000, 10000+1): ", 
      "    if(TwoSum(data, t)):", 
      "        count += 1", 
      "print('Via hash table: ' + str(count))"
     ], 
     "language": "python", 
     "outputs": [
      {
       "output_type": "stream", 
       "stream": "stdout", 
       "text": [
        "Via hash table: 427"
       ]
      }
     ], 
     "prompt_number": 11
    }, 
    {
     "cell_type": "code", 
     "collapsed": false, 
     "input": [
      "count"
     ], 
     "language": "python", 
     "outputs": [
      {
       "output_type": "pyout", 
       "prompt_number": 8, 
       "text": [
        "111"
       ]
      }
     ], 
     "prompt_number": 8
    }, 
    {
     "cell_type": "code", 
     "collapsed": true, 
     "input": [], 
     "language": "python", 
     "outputs": []
    }
   ]
  }
 ]
}