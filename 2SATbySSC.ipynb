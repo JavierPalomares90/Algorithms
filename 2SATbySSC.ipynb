{
 "metadata": {
  "name": "2SATbySSC"
 }, 
 "nbformat": 2, 
 "worksheets": [
  {
   "cells": [
    {
     "cell_type": "code", 
     "collapsed": false, 
     "input": [
      "import math", 
      "import random", 
      "import gc", 
      "import sys", 
      "import threading", 
      "from StringIO import StringIO", 
      "", 
      "def make_sat_graph(clauses):", 
      "    n = len(clauses)", 
      "    def var_index(var):", 
      "        if var < 0: return n - var", 
      "        else: return var", 
      "    res = ''", 
      "    for clause in clauses:", 
      "        res += '%i %i\\n' % (var_index(-clause[0]), var_index(clause[1]))", 
      "        res += '%i %i\\n' % (var_index(-clause[1]), var_index(clause[0]))", 
      "    return res", 
      "        ", 
      "        ", 
      "################################################################################", 
      "####### Kosaraju's SSC algorithm implementation from part 1 ######", 
      "################################################################################", 
      "", 
      "def readDirectedGraph(str):", 
      "    f = StringIO(str)", 
      "    ", 
      "    adjlist = []", 
      "    adjlist_reversed = []", 
      "    ", 
      "    line = f.readline()", 
      "    while line != '':", 
      "        num1, num2 = line.split()", 
      "        v_from = int(num1)", 
      "        v_to = int(num2)", 
      "        max_v = max(v_from, v_to)", 
      "        ", 
      "        while len(adjlist) < max_v:", 
      "            adjlist.append([])", 
      "        while len(adjlist_reversed) < max_v:", 
      "            adjlist_reversed.append([])", 
      "            ", 
      "        adjlist[v_from-1].append(v_to-1)", 
      "        adjlist_reversed[v_to-1].append(v_from-1)", 
      "        ", 
      "        line = f.readline()", 
      "            ", 
      "    return adjlist, adjlist_reversed", 
      "", 
      "", 
      "t = 0", 
      "s = None", 
      "n = 0", 
      "explored = None", 
      "leader = None", 
      "current_ssc = None", 
      "contradictory_ssc = None", 
      "sorted_by_finish_time = None", 
      "", 
      "def DFS_Loop_1(graph_rev, n):", 
      "    ", 
      "    global t, explored, sorted_by_finish_time", 
      "    ", 
      "    t = 0", 
      "    explored = [False]*n", 
      "    sorted_by_finish_time = [None]*n", 
      "    ", 
      "    for i in reversed(range(n)):", 
      "        if not explored[i]:", 
      "            DFS_1(graph_rev, i)", 
      "                        ", 
      "            ", 
      "def DFS_1(graph_rev, i):", 
      "    ", 
      "    global t, explored", 
      "    ", 
      "    explored[i] = True", 
      "    ", 
      "    for v in graph_rev[i]:", 
      "        if not explored[v]:", 
      "            DFS_1(graph_rev, v)", 
      "    ", 
      "    sorted_by_finish_time[t] = i", 
      "    t += 1", 
      "    ", 
      "    ", 
      "def DFS_Loop_2(graph):", 
      "    ", 
      "    global current_ssc, explored, contradictory_ssc, sorted_by_finish_time", 
      "    ", 
      "    explored = [False]*len(graph)", 
      "    ", 
      "    for i in reversed(range(len(graph))):", 
      "        if not explored[sorted_by_finish_time[i]]:", 
      "            scc_size = 0", 
      "            # Here we collect all the members", 
      "            # of the next SCC using DFS.", 
      "            current_ssc = set()", 
      "            contradictory_ssc = False", 
      "            DFS_2(graph, sorted_by_finish_time[i])", 
      "            if contradictory_ssc: break", 
      "            ", 
      "    return contradictory_ssc", 
      "    ", 
      "    ", 
      "def DFS_2(graph, i):", 
      "    ", 
      "    global explored, current_ssc, contradictory_ssc", 
      "    ", 
      "    explored[i] = True", 
      "    current_ssc.add(i)", 
      "    ", 
      "    # Check for unsatisfabilty indicator", 
      "    if i < n:", 
      "        if (i+n) in current_ssc:", 
      "            contradictory_ssc = True", 
      "    elif (i-n) in current_ssc:", 
      "        contradictory_ssc = True", 
      "    ", 
      "    for v in graph[i]:", 
      "        if not explored[v]:", 
      "            DFS_2(graph, v)", 
      "    ", 
      "", 
      "def kosaraju_contradictory_ssc(graph, graph_rev):", 
      "    ", 
      "    DFS_Loop_1(graph_rev, len(graph))", 
      "    contradictory_ssc = DFS_Loop_2(graph)", 
      "    ", 
      "    return contradictory_ssc", 
      "", 
      "", 
      "def main():", 
      "", 
      "    global n", 
      "", 
      "    for i in xrange(1, 7):", 
      "        print 'file %i' % i", 
      "        f = open('2sat%i.txt' % i)", 
      "        n = int(f.readline())", 
      "        clauses = [[int(x) for x in line.split()] for line in f]", 
      "        ", 
      "        sat_graph = make_sat_graph(clauses)", 
      "        graph, graph_rev = readDirectedGraph(sat_graph)", 
      "        contradictory_ssc = kosaraju_contradictory_ssc(graph, graph_rev)", 
      "        res = 'unsatisfiable' if contradictory_ssc else 'satisfiable'", 
      "        ", 
      "        print 'result: %s\\n' % res", 
      "        ", 
      "        gc.collect()", 
      "", 
      "", 
      "if __name__ == '__main__':", 
      "    threading.stack_size(67108864) # 64MB stack", 
      "    sys.setrecursionlimit(2 ** 20) # approx 1 million recursions", 
      "    thread = threading.Thread(target = main) # instantiate thread object", 
      "    thread.start() # run program at target"
     ], 
     "language": "python", 
     "outputs": [
      {
       "output_type": "stream", 
       "stream": "stdout", 
       "text": [
        "file 1"
       ]
      }, 
      {
       "output_type": "stream", 
       "stream": "stdout", 
       "text": [
        "result: satisfiable", 
        "", 
        "file 2"
       ]
      }, 
      {
       "output_type": "stream", 
       "stream": "stdout", 
       "text": [
        "", 
        "result: satisfiable"
       ]
      }, 
      {
       "output_type": "stream", 
       "stream": "stdout", 
       "text": [
        "", 
        "file 2"
       ]
      }
     ], 
     "prompt_number": 8
    }, 
    {
     "cell_type": "code", 
     "collapsed": false, 
     "input": [
      "main()"
     ], 
     "language": "python", 
     "outputs": [
      {
       "output_type": "stream", 
       "stream": "stdout", 
       "text": [
        "file 1", 
        "result: satisfiable"
       ]
      }, 
      {
       "output_type": "stream", 
       "stream": "stdout", 
       "text": [
        "", 
        "file 3"
       ]
      }, 
      {
       "ename": "IndexError", 
       "evalue": "list index out of range", 
       "output_type": "pyerr", 
       "traceback": [
        "\u001b[0;31m---------------------------------------------------------------------------\u001b[0m\n\u001b[0;31mIndexError\u001b[0m                                Traceback (most recent call last)", 
        "\u001b[0;32m/Users/Javier/Dropbox/Algorithms/<ipython-input-9-58ca95c5b364>\u001b[0m in \u001b[0;36m<module>\u001b[0;34m()\u001b[0m\n\u001b[0;32m----> 1\u001b[0;31m \u001b[0mmain\u001b[0m\u001b[0;34m(\u001b[0m\u001b[0;34m)\u001b[0m\u001b[0;34m\u001b[0m\u001b[0m\n\u001b[0m", 
        "\u001b[0;32m/Users/Javier/Dropbox/Algorithms/<ipython-input-8-c23577523ec8>\u001b[0m in \u001b[0;36mmain\u001b[0;34m()\u001b[0m\n\u001b[1;32m    142\u001b[0m         \u001b[0msat_graph\u001b[0m \u001b[0;34m=\u001b[0m \u001b[0mmake_sat_graph\u001b[0m\u001b[0;34m(\u001b[0m\u001b[0mclauses\u001b[0m\u001b[0;34m)\u001b[0m\u001b[0;34m\u001b[0m\u001b[0m\n\u001b[1;32m    143\u001b[0m         \u001b[0mgraph\u001b[0m\u001b[0;34m,\u001b[0m \u001b[0mgraph_rev\u001b[0m \u001b[0;34m=\u001b[0m \u001b[0mreadDirectedGraph\u001b[0m\u001b[0;34m(\u001b[0m\u001b[0msat_graph\u001b[0m\u001b[0;34m)\u001b[0m\u001b[0;34m\u001b[0m\u001b[0m\n\u001b[0;32m--> 144\u001b[0;31m         \u001b[0mcontradictory_ssc\u001b[0m \u001b[0;34m=\u001b[0m \u001b[0mkosaraju_contradictory_ssc\u001b[0m\u001b[0;34m(\u001b[0m\u001b[0mgraph\u001b[0m\u001b[0;34m,\u001b[0m \u001b[0mgraph_rev\u001b[0m\u001b[0;34m)\u001b[0m\u001b[0;34m\u001b[0m\u001b[0m\n\u001b[0m\u001b[1;32m    145\u001b[0m         \u001b[0mres\u001b[0m \u001b[0;34m=\u001b[0m \u001b[0;34m'unsatisfiable'\u001b[0m \u001b[0;32mif\u001b[0m \u001b[0mcontradictory_ssc\u001b[0m \u001b[0;32melse\u001b[0m \u001b[0;34m'satisfiable'\u001b[0m\u001b[0;34m\u001b[0m\u001b[0m\n\u001b[1;32m    146\u001b[0m \u001b[0;34m\u001b[0m\u001b[0m\n", 
        "\u001b[0;32m/Users/Javier/Dropbox/Algorithms/<ipython-input-8-c23577523ec8>\u001b[0m in \u001b[0;36mkosaraju_contradictory_ssc\u001b[0;34m(graph, graph_rev)\u001b[0m\n\u001b[1;32m    125\u001b[0m \u001b[0;34m\u001b[0m\u001b[0m\n\u001b[1;32m    126\u001b[0m     \u001b[0mDFS_Loop_1\u001b[0m\u001b[0;34m(\u001b[0m\u001b[0mgraph_rev\u001b[0m\u001b[0;34m,\u001b[0m \u001b[0mlen\u001b[0m\u001b[0;34m(\u001b[0m\u001b[0mgraph\u001b[0m\u001b[0;34m)\u001b[0m\u001b[0;34m)\u001b[0m\u001b[0;34m\u001b[0m\u001b[0m\n\u001b[0;32m--> 127\u001b[0;31m     \u001b[0mcontradictory_ssc\u001b[0m \u001b[0;34m=\u001b[0m \u001b[0mDFS_Loop_2\u001b[0m\u001b[0;34m(\u001b[0m\u001b[0mgraph\u001b[0m\u001b[0;34m)\u001b[0m\u001b[0;34m\u001b[0m\u001b[0m\n\u001b[0m\u001b[1;32m    128\u001b[0m \u001b[0;34m\u001b[0m\u001b[0m\n\u001b[1;32m    129\u001b[0m     \u001b[0;32mreturn\u001b[0m \u001b[0mcontradictory_ssc\u001b[0m\u001b[0;34m\u001b[0m\u001b[0m\n", 
        "\u001b[0;32m/Users/Javier/Dropbox/Algorithms/<ipython-input-8-c23577523ec8>\u001b[0m in \u001b[0;36mDFS_Loop_2\u001b[0;34m(graph)\u001b[0m\n\u001b[1;32m     91\u001b[0m \u001b[0;34m\u001b[0m\u001b[0m\n\u001b[1;32m     92\u001b[0m     \u001b[0;32mfor\u001b[0m \u001b[0mi\u001b[0m \u001b[0;32min\u001b[0m \u001b[0mreversed\u001b[0m\u001b[0;34m(\u001b[0m\u001b[0mrange\u001b[0m\u001b[0;34m(\u001b[0m\u001b[0mlen\u001b[0m\u001b[0;34m(\u001b[0m\u001b[0mgraph\u001b[0m\u001b[0;34m)\u001b[0m\u001b[0;34m)\u001b[0m\u001b[0;34m)\u001b[0m\u001b[0;34m:\u001b[0m\u001b[0;34m\u001b[0m\u001b[0m\n\u001b[0;32m---> 93\u001b[0;31m         \u001b[0;32mif\u001b[0m \u001b[0;32mnot\u001b[0m \u001b[0mexplored\u001b[0m\u001b[0;34m[\u001b[0m\u001b[0msorted_by_finish_time\u001b[0m\u001b[0;34m[\u001b[0m\u001b[0mi\u001b[0m\u001b[0;34m]\u001b[0m\u001b[0;34m]\u001b[0m\u001b[0;34m:\u001b[0m\u001b[0;34m\u001b[0m\u001b[0m\n\u001b[0m\u001b[1;32m     94\u001b[0m             \u001b[0mscc_size\u001b[0m \u001b[0;34m=\u001b[0m \u001b[0;36m0\u001b[0m\u001b[0;34m\u001b[0m\u001b[0m\n\u001b[1;32m     95\u001b[0m             \u001b[0;31m# Here we collect all the members\u001b[0m\n\u001b[0;34m\u001b[0m\u001b[0m\n", 
        "\u001b[0;31mIndexError\u001b[0m: list index out of range"
       ]
      }, 
      {
       "output_type": "stream", 
       "stream": "stdout", 
       "text": [
        ""
       ]
      }, 
      {
       "output_type": "stream", 
       "stream": "stderr", 
       "text": [
        "Exception in thread Thread-8:", 
        "Traceback (most recent call last):", 
        "  File \"/Library/Frameworks/Python.framework/Versions/7.3/lib/python2.7/threading.py\", line 551, in __bootstrap_inner", 
        "    self.run()", 
        "  File \"/Library/Frameworks/Python.framework/Versions/7.3/lib/python2.7/threading.py\", line 504, in run", 
        "    self.__target(*self.__args, **self.__kwargs)", 
        "  File \"<ipython-input-8-c23577523ec8>\", line 144, in main", 
        "    contradictory_ssc = kosaraju_contradictory_ssc(graph, graph_rev)", 
        "  File \"<ipython-input-8-c23577523ec8>\", line 126, in kosaraju_contradictory_ssc", 
        "    DFS_Loop_1(graph_rev, len(graph))", 
        "  File \"<ipython-input-8-c23577523ec8>\", line 69, in DFS_Loop_1", 
        "    DFS_1(graph_rev, i)", 
        "  File \"<ipython-input-8-c23577523ec8>\", line 80, in DFS_1", 
        "    DFS_1(graph_rev, v)", 
        "  File \"<ipython-input-8-c23577523ec8>\", line 80, in DFS_1", 
        "    DFS_1(graph_rev, v)", 
        "  File \"<ipython-input-8-c23577523ec8>\", line 80, in DFS_1", 
        "    DFS_1(graph_rev, v)", 
        "  File \"<ipython-input-8-c23577523ec8>\", line 79, in DFS_1", 
        "    if not explored[v]:", 
        "IndexError: list index out of range", 
        ""
       ]
      }, 
      {
       "output_type": "stream", 
       "stream": "stdout", 
       "text": [
        "result: satisfiable", 
        "", 
        "file 4"
       ]
      }, 
      {
       "output_type": "stream", 
       "stream": "stdout", 
       "text": [
        "", 
        "result: satisfiable"
       ]
      }, 
      {
       "output_type": "stream", 
       "stream": "stdout", 
       "text": [
        "", 
        "file 5"
       ]
      }
     ], 
     "prompt_number": 9
    }, 
    {
     "cell_type": "code", 
     "collapsed": true, 
     "input": [], 
     "language": "python", 
     "outputs": []
    }
   ]
  }
 ]
}