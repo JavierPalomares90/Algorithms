{
 "metadata": {
  "name": "Dijkistras"
 }, 
 "nbformat": 2, 
 "worksheets": [
  {
   "cells": [
    {
     "cell_type": "code", 
     "collapsed": true, 
     "input": [
      "class edge:", 
      "    def __init__(self):", 
      "        self.v1 = 0", 
      "        self.v2 = 0", 
      "        self.length = 0", 
      "class vertex:", 
      "    def __init__(self):", 
      "        # will keep track of edges going out of vertices", 
      "        self.edges = []", 
      "        self.explored = False", 
      "        self.leader = 0", 
      "        self.label = 0"
     ], 
     "language": "python", 
     "outputs": [], 
     "prompt_number": 1
    }, 
    {
     "cell_type": "code", 
     "collapsed": false, 
     "input": [
      "import math", 
      "import re", 
      "from pylab import *", 
      "from numpy import *", 
      "numVertices = 200", 
      "edges = []", 
      "vertices = []", 
      "for i in xrange(numVertices):", 
      "    v = vertex()", 
      "    vertices.append(v)", 
      "f = open('dijkstraData.txt')", 
      "re = re.compile('\\s*,\\s*')", 
      "for line in f:", 
      "    l = line.split()", 
      "    v1Index = int(l[0])", 
      "    vertices[v1Index-1].label = v1Index", 
      "    ", 
      "    for j in xrange(1,len(l),1):", 
      "        n = re.split(l[j])", 
      "        v2Index = int(n[0])", 
      "        length = int(n[1])", 
      "        vertices[v2Index-1].label = v2Index", 
      "        e = edge()", 
      "        e.v1 = v1Index", 
      "        e.v2 = v2Index", 
      "        e.length = length", 
      "        vertices[v1Index-1].edges.append(e)", 
      "        vertices[v2Index-1].edges.append(e)", 
      "        edges.append(e)", 
      "X,A = Dijkstra(vertices,edges,vertices[0])"
     ], 
     "language": "python", 
     "outputs": [], 
     "prompt_number": 205
    }, 
    {
     "cell_type": "code", 
     "collapsed": false, 
     "input": [
      "def Dijkstra(vertices,edges,source):", 
      "    X = [source.label]", 
      "    A = [1000000]*len(vertices)", 
      "    A[source.label-1] = 0", 
      "    while len(X) != len(vertices):", 
      "        minLength = sys.maxint", 
      "        index = 0", 
      "        vIn = 0", 
      "        vOut = 0", 
      "        for i in xrange(len(edges)):", 
      "            # find the one that minimizes length", 
      "            if((edges[i].v1 in X) and (not edges[i].v2 in X)):", 
      "                v1Index = edges[i].v1", 
      "                v2Index = edges[i].v2", 
      "                l = A[v1Index - 1] + edges[i].length", 
      "                if (l < minLength):", 
      "                    index = i", 
      "                    minLength = l", 
      "                    vIn = v1Index", 
      "                    vOut = v2Index", 
      "            if((edges[i].v2 in X) and (not edges[i].v1 in X)):", 
      "                v1Index = edges[i].v1", 
      "                v2Index = edges[i].v2", 
      "                l = A[v2Index - 1] + edges[i].length", 
      "                if (l < minLength):", 
      "                    index = i", 
      "                    minLength = l", 
      "                    vIn = v2Index", 
      "                    vOut = v1Index", 
      "        # Add to x", 
      "        X.append(vOut)", 
      "        A[vOut - 1] = A[vIn-1] + edges[index].length", 
      "    return X,A"
     ], 
     "language": "python", 
     "outputs": [], 
     "prompt_number": 204
    }, 
    {
     "cell_type": "code", 
     "collapsed": false, 
     "input": [
      "for i in xrange(25):", 
      "    print A[i]"
     ], 
     "language": "python", 
     "outputs": [
      {
       "output_type": "stream", 
       "stream": "stdout", 
       "text": [
        "0", 
        "2971", 
        "2644", 
        "3056", 
        "2525", 
        "2818", 
        "2599", 
        "1875", 
        "745", 
        "3205", 
        "1551", 
        "2906", 
        "2394", 
        "1803", 
        "2942", 
        "1837", 
        "3111", 
        "2284", 
        "1044", 
        "2351", 
        "3630", 
        "4028", 
        "2650", 
        "3653", 
        "2249"
       ]
      }
     ], 
     "prompt_number": 207
    }, 
    {
     "cell_type": "code", 
     "collapsed": false, 
     "input": [
      "vertices[3].label"
     ], 
     "language": "python", 
     "outputs": [
      {
       "output_type": "pyout", 
       "prompt_number": 167, 
       "text": [
        "4"
       ]
      }
     ], 
     "prompt_number": 167
    }, 
    {
     "cell_type": "code", 
     "collapsed": false, 
     "input": [
      "a = [3,2,1]"
     ], 
     "language": "python", 
     "outputs": [], 
     "prompt_number": 169
    }, 
    {
     "cell_type": "code", 
     "collapsed": false, 
     "input": [
      "not 4 in a"
     ], 
     "language": "python", 
     "outputs": [
      {
       "output_type": "pyout", 
       "prompt_number": 176, 
       "text": [
        "True"
       ]
      }
     ], 
     "prompt_number": 176
    }, 
    {
     "cell_type": "code", 
     "collapsed": false, 
     "input": [
      "j[4]"
     ], 
     "language": "python", 
     "outputs": [
      {
       "output_type": "pyout", 
       "prompt_number": 144, 
       "text": [
        "'145,648'"
       ]
      }
     ], 
     "prompt_number": 144
    }, 
    {
     "cell_type": "code", 
     "collapsed": false, 
     "input": [
      "1 != 0"
     ], 
     "language": "python", 
     "outputs": [
      {
       "output_type": "pyout", 
       "prompt_number": 168, 
       "text": [
        "True"
       ]
      }
     ], 
     "prompt_number": 168
    }, 
    {
     "cell_type": "code", 
     "collapsed": false, 
     "input": [
      "p2 = re.compile('\\s*,\\s*')"
     ], 
     "language": "python", 
     "outputs": [], 
     "prompt_number": 109
    }, 
    {
     "cell_type": "code", 
     "collapsed": true, 
     "input": [
      "k = p2.split('24,509909')"
     ], 
     "language": "python", 
     "outputs": [], 
     "prompt_number": 127
    }, 
    {
     "cell_type": "code", 
     "collapsed": false, 
     "input": [
      "k[1]"
     ], 
     "language": "python", 
     "outputs": [
      {
       "output_type": "pyout", 
       "prompt_number": 129, 
       "text": [
        "'509909'"
       ]
      }
     ], 
     "prompt_number": 129
    }, 
    {
     "cell_type": "code", 
     "collapsed": false, 
     "input": [
      "sys.maxint"
     ], 
     "language": "python", 
     "outputs": [
      {
       "output_type": "pyout", 
       "prompt_number": 177, 
       "text": [
        "2147483647"
       ]
      }
     ], 
     "prompt_number": 177
    }, 
    {
     "cell_type": "code", 
     "collapsed": true, 
     "input": [], 
     "language": "python", 
     "outputs": []
    }
   ]
  }
 ]
}