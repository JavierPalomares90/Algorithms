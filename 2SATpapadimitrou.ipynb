{
 "metadata": {
  "name": "2SATpapadimitrou"
 }, 
 "nbformat": 2, 
 "worksheets": [
  {
   "cells": [
    {
     "cell_type": "code", 
     "collapsed": false, 
     "input": [
      "import math", 
      "import random", 
      "import gc", 
      "", 
      "def papadimitrou(clauses):", 
      "", 
      "    n = len(clauses)", 
      "    ", 
      "    for j in xrange(int(math.log(n, 2))):", 
      "        assignment = random_assignment(n)", 
      "        i = 2*n*n", 
      "        while i > 0:", 
      "            i -= 1", 
      "            clause_index = unsatisfied_clause(clauses, assignment)", 
      "            if clause_index is None:", 
      "                return 'satisfiable'", 
      "            else:", 
      "                var_index = abs(clauses[clause_index][random.randint(0, 1)]) - 1", 
      "                assignment[var_index] = 1 - assignment[var_index]", 
      "                ", 
      "    return 'unsatisfiable'", 
      "    ", 
      "    ", 
      "def random_assignment(n):", 
      "    return [random.randint(0, 1) for _ in xrange(n)]", 
      "", 
      "", 
      "def unsatisfied_clause(clauses, assignment):", 
      "    for i in xrange(len(clauses)):", 
      "        if ((clauses[i][0] < 0 and assignment[abs(clauses[i][0])-1] == 1) or \\", 
      "            (clauses[i][0] > 0 and assignment[abs(clauses[i][0])-1] == 0)) and \\", 
      "            ((clauses[i][1] < 0 and assignment[abs(clauses[i][1])-1] == 1) or \\", 
      "            (clauses[i][1] > 0 and assignment[abs(clauses[i][1])-1] == 0)):", 
      "            return i", 
      "    return None", 
      "    ", 
      "    ", 
      "def main():", 
      "    for i in xrange(1, 7):", 
      "        print 'file %i' % i", 
      "        f = open('2sat%i.txt' % i)", 
      "        n = int(f.readline())", 
      "        clauses = [[int(x) for x in line.split()] for line in f]", 
      "        ", 
      "        print 'result: %s\\n' % papadimitrou(clauses)", 
      "        ", 
      "        gc.collect()", 
      "", 
      "", 
      "main()"
     ], 
     "language": "python", 
     "outputs": [
      {
       "ename": "KeyboardInterrupt", 
       "evalue": "", 
       "output_type": "pyerr", 
       "traceback": [
        "\u001b[0;31m---------------------------------------------------------------------------\u001b[0m\n\u001b[0;31mKeyboardInterrupt\u001b[0m                         Traceback (most recent call last)", 
        "\u001b[0;32m/Users/Javier/Dropbox/Algorithms/<ipython-input-1-cc82ae25ac2d>\u001b[0m in \u001b[0;36m<module>\u001b[0;34m()\u001b[0m\n\u001b[1;32m     48\u001b[0m \u001b[0;34m\u001b[0m\u001b[0m\n\u001b[1;32m     49\u001b[0m \u001b[0;34m\u001b[0m\u001b[0m\n\u001b[0;32m---> 50\u001b[0;31m \u001b[0mmain\u001b[0m\u001b[0;34m(\u001b[0m\u001b[0;34m)\u001b[0m\u001b[0;34m\u001b[0m\u001b[0m\n\u001b[0m", 
        "\u001b[0;32m/Users/Javier/Dropbox/Algorithms/<ipython-input-1-cc82ae25ac2d>\u001b[0m in \u001b[0;36mmain\u001b[0;34m()\u001b[0m\n\u001b[1;32m     43\u001b[0m         \u001b[0mclauses\u001b[0m \u001b[0;34m=\u001b[0m \u001b[0;34m[\u001b[0m\u001b[0;34m[\u001b[0m\u001b[0mint\u001b[0m\u001b[0;34m(\u001b[0m\u001b[0mx\u001b[0m\u001b[0;34m)\u001b[0m \u001b[0;32mfor\u001b[0m \u001b[0mx\u001b[0m \u001b[0;32min\u001b[0m \u001b[0mline\u001b[0m\u001b[0;34m.\u001b[0m\u001b[0msplit\u001b[0m\u001b[0;34m(\u001b[0m\u001b[0;34m)\u001b[0m\u001b[0;34m]\u001b[0m \u001b[0;32mfor\u001b[0m \u001b[0mline\u001b[0m \u001b[0;32min\u001b[0m \u001b[0mf\u001b[0m\u001b[0;34m]\u001b[0m\u001b[0;34m\u001b[0m\u001b[0m\n\u001b[1;32m     44\u001b[0m \u001b[0;34m\u001b[0m\u001b[0m\n\u001b[0;32m---> 45\u001b[0;31m         \u001b[0;32mprint\u001b[0m \u001b[0;34m'result: %s\\n'\u001b[0m \u001b[0;34m%\u001b[0m \u001b[0mpapadimitrou\u001b[0m\u001b[0;34m(\u001b[0m\u001b[0mclauses\u001b[0m\u001b[0;34m)\u001b[0m\u001b[0;34m\u001b[0m\u001b[0m\n\u001b[0m\u001b[1;32m     46\u001b[0m \u001b[0;34m\u001b[0m\u001b[0m\n\u001b[1;32m     47\u001b[0m         \u001b[0mgc\u001b[0m\u001b[0;34m.\u001b[0m\u001b[0mcollect\u001b[0m\u001b[0;34m(\u001b[0m\u001b[0;34m)\u001b[0m\u001b[0;34m\u001b[0m\u001b[0m\n", 
        "\u001b[0;32m/Users/Javier/Dropbox/Algorithms/<ipython-input-1-cc82ae25ac2d>\u001b[0m in \u001b[0;36mpapadimitrou\u001b[0;34m(clauses)\u001b[0m\n\u001b[1;32m     12\u001b[0m         \u001b[0;32mwhile\u001b[0m \u001b[0mi\u001b[0m \u001b[0;34m>\u001b[0m \u001b[0;36m0\u001b[0m\u001b[0;34m:\u001b[0m\u001b[0;34m\u001b[0m\u001b[0m\n\u001b[1;32m     13\u001b[0m             \u001b[0mi\u001b[0m \u001b[0;34m-=\u001b[0m \u001b[0;36m1\u001b[0m\u001b[0;34m\u001b[0m\u001b[0m\n\u001b[0;32m---> 14\u001b[0;31m             \u001b[0mclause_index\u001b[0m \u001b[0;34m=\u001b[0m \u001b[0munsatisfied_clause\u001b[0m\u001b[0;34m(\u001b[0m\u001b[0mclauses\u001b[0m\u001b[0;34m,\u001b[0m \u001b[0massignment\u001b[0m\u001b[0;34m)\u001b[0m\u001b[0;34m\u001b[0m\u001b[0m\n\u001b[0m\u001b[1;32m     15\u001b[0m             \u001b[0;32mif\u001b[0m \u001b[0mclause_index\u001b[0m \u001b[0;32mis\u001b[0m \u001b[0mNone\u001b[0m\u001b[0;34m:\u001b[0m\u001b[0;34m\u001b[0m\u001b[0m\n\u001b[1;32m     16\u001b[0m                 \u001b[0;32mreturn\u001b[0m \u001b[0;34m'satisfiable'\u001b[0m\u001b[0;34m\u001b[0m\u001b[0m\n", 
        "\u001b[0;32m/Users/Javier/Dropbox/Algorithms/<ipython-input-1-cc82ae25ac2d>\u001b[0m in \u001b[0;36munsatisfied_clause\u001b[0;34m(clauses, assignment)\u001b[0m\n\u001b[1;32m     28\u001b[0m \u001b[0;32mdef\u001b[0m \u001b[0munsatisfied_clause\u001b[0m\u001b[0;34m(\u001b[0m\u001b[0mclauses\u001b[0m\u001b[0;34m,\u001b[0m \u001b[0massignment\u001b[0m\u001b[0;34m)\u001b[0m\u001b[0;34m:\u001b[0m\u001b[0;34m\u001b[0m\u001b[0m\n\u001b[1;32m     29\u001b[0m     \u001b[0;32mfor\u001b[0m \u001b[0mi\u001b[0m \u001b[0;32min\u001b[0m \u001b[0mxrange\u001b[0m\u001b[0;34m(\u001b[0m\u001b[0mlen\u001b[0m\u001b[0;34m(\u001b[0m\u001b[0mclauses\u001b[0m\u001b[0;34m)\u001b[0m\u001b[0;34m)\u001b[0m\u001b[0;34m:\u001b[0m\u001b[0;34m\u001b[0m\u001b[0m\n\u001b[0;32m---> 30\u001b[0;31m         if ((clauses[i][0] < 0 and assignment[abs(clauses[i][0])-1] == 1) or \\\n\u001b[0m\u001b[1;32m     31\u001b[0m             (clauses[i][0] > 0 and assignment[abs(clauses[i][0])-1] == 0)) and \\\n\u001b[1;32m     32\u001b[0m             ((clauses[i][1] < 0 and assignment[abs(clauses[i][1])-1] == 1) or \\\n", 
        "\u001b[0;31mKeyboardInterrupt\u001b[0m: "
       ]
      }, 
      {
       "output_type": "stream", 
       "stream": "stdout", 
       "text": [
        "file 1"
       ]
      }
     ], 
     "prompt_number": 1
    }, 
    {
     "cell_type": "code", 
     "collapsed": false, 
     "input": [
      "for i in xrange(1,7):", 
      "    print i"
     ], 
     "language": "python", 
     "outputs": [
      {
       "output_type": "stream", 
       "stream": "stdout", 
       "text": [
        "1", 
        "2", 
        "3", 
        "4", 
        "5", 
        "6"
       ]
      }
     ], 
     "prompt_number": 2
    }, 
    {
     "cell_type": "code", 
     "collapsed": true, 
     "input": [], 
     "language": "python", 
     "outputs": []
    }
   ]
  }
 ]
}