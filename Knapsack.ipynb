{
 "metadata": {
  "name": "Knapsack"
 }, 
 "nbformat": 2, 
 "worksheets": [
  {
   "cells": [
    {
     "cell_type": "code", 
     "collapsed": false, 
     "input": [
      "import sys", 
      "", 
      "def knapsack(W, items):", 
      "    # bottom-up solution", 
      "    N = len(items)", 
      "    A = [[0 for _ in xrange(W)] for _ in xrange(N)]", 
      "    for i in xrange(N):", 
      "        v, w = items[i]", 
      "        for j in xrange(W):", 
      "            if j-w < 0: A[i][j] = A[i-1][j]", 
      "            else: A[i][j] = max(A[i-1][j], A[i-1][j-w] + v)", 
      "    return A[N-1][W-1]", 
      "", 
      "def knapsack_optimized(W, items):", 
      "    # top-down solution with memoization via hashtable;", 
      "    # applicable for large problem instances", 
      "    N = len(items)", 
      "    A = {}", 
      "    def A_(i, j):", 
      "        if (str(i)+','+str(j)) in A: return A[str(i)+','+str(j)] # memoization", 
      "        if i == 0: return 0", 
      "        v, w = items[i]", 
      "        if j-w < 0:", 
      "            result = A_(i-1, j)", 
      "            A[str(i)+','+str(j)] = result # memoization", 
      "            return result", 
      "        else:", 
      "            result = max(A_(i-1, j), A_(i-1, j-w) + v)", 
      "            A[str(i)+','+str(j)] = result # memoization", 
      "            return result", 
      "    return A_(N-1, W-1)", 
      "    ", 
      "def main():", 
      "    ", 
      "    #if len(sys.argv) < 2: return", 
      "    sys.setrecursionlimit(20000)", 
      "    filename = 'knapsack_big.txt'", 
      "    f = open(filename)", 
      "    ", 
      "    W, _ = [int(x) for x in f.readline().split()]", 
      "    items = []", 
      "    for line in f:", 
      "        v_str, w_str = line.split()", 
      "        v, w = int(v_str), int(w_str)", 
      "        items.append((v, w))", 
      "        ", 
      "    #if len(sys.argv) >= 3 and sys.argv[2] == 'optimized':", 
      "    result = knapsack_optimized(W, items)", 
      "    #else:", 
      "        #result = knapsack(W, items)", 
      "        ", 
      "    print 'Optimal value: %i' % result", 
      "", 
      "", 
      "main()"
     ], 
     "language": "python", 
     "outputs": [
      {
       "output_type": "stream", 
       "stream": "stdout", 
       "text": [
        "Optimal value: 2493893"
       ]
      }
     ], 
     "prompt_number": 7
    }, 
    {
     "cell_type": "code", 
     "collapsed": false, 
     "input": [
      "del result"
     ], 
     "language": "python", 
     "outputs": [
      {
       "ename": "NameError", 
       "evalue": "name 'result' is not defined", 
       "output_type": "pyerr", 
       "traceback": [
        "\u001b[1;31m---------------------------------------------------------------------------\u001b[0m\n\u001b[1;31mNameError\u001b[0m                                 Traceback (most recent call last)", 
        "\u001b[1;32m/home/javierp/Dropbox/Algorithms/<ipython-input-8-2a0cb0bc49ff>\u001b[0m in \u001b[0;36m<module>\u001b[1;34m()\u001b[0m\n\u001b[1;32m----> 1\u001b[1;33m \u001b[1;32mdel\u001b[0m \u001b[0mresult\u001b[0m\u001b[1;33m\u001b[0m\u001b[0m\n\u001b[0m", 
        "\u001b[1;31mNameError\u001b[0m: name 'result' is not defined"
       ]
      }
     ], 
     "prompt_number": 8
    }, 
    {
     "cell_type": "code", 
     "collapsed": true, 
     "input": [], 
     "language": "python", 
     "outputs": []
    }
   ]
  }
 ]
}