{
 "metadata": {
  "name": "ClusteringBigGraph"
 }, 
 "nbformat": 2, 
 "worksheets": [
  {
   "cells": [
    {
     "cell_type": "code", 
     "collapsed": false, 
     "input": [
      "f = open('clustering_big.txt')", 
      "line = f.readline().split()", 
      "numNodes = int(line[0])", 
      "bitSize = int(line[1])", 
      "map  = {}", 
      "vertexNumber = 0", 
      "nodes = [0] * numNodes", 
      "for line in f:", 
      "    bits = line.split()", 
      "    n = len(bits)", 
      "    node = 0", 
      "    for i in xrange(n):", 
      "        ", 
      "        node += int(bits[i])*(2**i)", 
      "    map[node] = vertexNumber", 
      "    nodes[vertexNumber-1] = node", 
      "    vertexNumber+=1", 
      "    #if not node in nodes:", 
      "        #nodes.append(node)"
     ], 
     "language": "python", 
     "outputs": [], 
     "prompt_number": 107
    }, 
    {
     "cell_type": "code", 
     "collapsed": false, 
     "input": [
      "for i in xrange(numNodes):", 
      "    node = nodes[i]", 
      "    if not node in map:", 
      "        print i,node"
     ], 
     "language": "python", 
     "outputs": [], 
     "prompt_number": 109
    }, 
    {
     "cell_type": "code", 
     "collapsed": false, 
     "input": [
      "clusters = range(vertexNumber)", 
      "numFlips=276", 
      "for i in xrange(numNodes):", 
      "    # need to iterate this function over all nodes", 
      "    node = nodes[i]", 
      "    #want to find all the nodes that differ by at most 2 bits. there are 276 ways to flip 2 bits from 2", 
      "    firstVertex = map[node]", 
      "    for i in xrange(numFlips):", 
      "        bitMask = 0x0001 << i", 
      "        nodeToCheck = node ^ bitMask", 
      "        if (nodeToCheck in map):", 
      "            vertexToMerge = map[nodeToCheck]", 
      "            clusters[vertexToMerge-1] = clusters[firstVertex-1]", 
      "            map[nodeToCheck] = firstVertex", 
      "            #print 'index ',vertexToMerge-1,'set to ',firstVertex-1", 
      "            #print 'node is',node,'node to check is',nodeToCheck,'bitmask is',bitMask"
     ], 
     "language": "python", 
     "outputs": [], 
     "prompt_number": 110
    }, 
    {
     "cell_type": "code", 
     "collapsed": false, 
     "input": [
      "n = len(clusters)", 
      "sets = [None] * n", 
      "index = 0", 
      "for i in xrange(n):", 
      "    cluster = clusters[i]", 
      "    if (not cluster in sets):", 
      "        sets[index] = cluster", 
      "        index +=1", 
      "print 'k is :',index", 
      "    "
     ], 
     "language": "python", 
     "outputs": [
      {
       "ename": "KeyboardInterrupt", 
       "evalue": "", 
       "output_type": "pyerr", 
       "traceback": [
        "\u001b[0;31m---------------------------------------------------------------------------\u001b[0m\n\u001b[0;31mKeyboardInterrupt\u001b[0m                         Traceback (most recent call last)", 
        "\u001b[0;32m/Users/Javier/Dropbox/Algorithms/<ipython-input-111-7895a96fe716>\u001b[0m in \u001b[0;36m<module>\u001b[0;34m()\u001b[0m\n\u001b[1;32m      4\u001b[0m     \u001b[0mcluster\u001b[0m \u001b[0;34m=\u001b[0m \u001b[0mclusters\u001b[0m\u001b[0;34m[\u001b[0m\u001b[0mi\u001b[0m\u001b[0;34m]\u001b[0m\u001b[0;34m\u001b[0m\u001b[0m\n\u001b[1;32m      5\u001b[0m     \u001b[0;32mif\u001b[0m \u001b[0;34m(\u001b[0m\u001b[0;32mnot\u001b[0m \u001b[0mclusters\u001b[0m \u001b[0;32min\u001b[0m \u001b[0msets\u001b[0m\u001b[0;34m)\u001b[0m\u001b[0;34m:\u001b[0m\u001b[0;34m\u001b[0m\u001b[0m\n\u001b[0;32m----> 6\u001b[0;31m         \u001b[0msets\u001b[0m\u001b[0;34m.\u001b[0m\u001b[0mappend\u001b[0m\u001b[0;34m(\u001b[0m\u001b[0mcluster\u001b[0m\u001b[0;34m)\u001b[0m\u001b[0;34m\u001b[0m\u001b[0m\n\u001b[0m\u001b[1;32m      7\u001b[0m \u001b[0;32mprint\u001b[0m \u001b[0;34m'k is :'\u001b[0m\u001b[0;34m,\u001b[0m\u001b[0mlen\u001b[0m\u001b[0;34m(\u001b[0m\u001b[0msets\u001b[0m\u001b[0;34m)\u001b[0m\u001b[0;34m\u001b[0m\u001b[0m\n\u001b[1;32m      8\u001b[0m \u001b[0;34m\u001b[0m\u001b[0m\n", 
        "\u001b[0;31mKeyboardInterrupt\u001b[0m: "
       ]
      }
     ], 
     "prompt_number": 111
    }, 
    {
     "cell_type": "code", 
     "collapsed": false, 
     "input": [
      "numNodes = len(nodes)"
     ], 
     "language": "python", 
     "outputs": [], 
     "prompt_number": 49
    }, 
    {
     "cell_type": "code", 
     "collapsed": false, 
     "input": [
      "clusters[5]"
     ], 
     "language": "python", 
     "outputs": [
      {
       "output_type": "pyout", 
       "prompt_number": 57, 
       "text": [
        "5"
       ]
      }
     ], 
     "prompt_number": 57
    }, 
    {
     "cell_type": "code", 
     "collapsed": false, 
     "input": [
      "a = []"
     ], 
     "language": "python", 
     "outputs": [], 
     "prompt_number": 23
    }, 
    {
     "cell_type": "code", 
     "collapsed": false, 
     "input": [
      "a.append(1)"
     ], 
     "language": "python", 
     "outputs": [], 
     "prompt_number": 24
    }, 
    {
     "cell_type": "code", 
     "collapsed": false, 
     "input": [
      "a = []* 5"
     ], 
     "language": "python", 
     "outputs": [], 
     "prompt_number": 31
    }, 
    {
     "cell_type": "code", 
     "collapsed": false, 
     "input": [
      "a"
     ], 
     "language": "python", 
     "outputs": [
      {
       "output_type": "pyout", 
       "prompt_number": 28, 
       "text": [
        "[None, None, None, None, None]"
       ]
      }
     ], 
     "prompt_number": 28
    }, 
    {
     "cell_type": "code", 
     "collapsed": true, 
     "input": [
      "a.append(1)"
     ], 
     "language": "python", 
     "outputs": [], 
     "prompt_number": 32
    }, 
    {
     "cell_type": "code", 
     "collapsed": false, 
     "input": [
      "a"
     ], 
     "language": "python", 
     "outputs": [
      {
       "output_type": "pyout", 
       "prompt_number": 33, 
       "text": [
        "[1]"
       ]
      }
     ], 
     "prompt_number": 33
    }, 
    {
     "cell_type": "code", 
     "collapsed": false, 
     "input": [
      "1116-750-250"
     ], 
     "language": "python", 
     "outputs": [
      {
       "output_type": "pyout", 
       "prompt_number": 53, 
       "text": [
        "116"
       ]
      }
     ], 
     "prompt_number": 53
    }, 
    {
     "cell_type": "code", 
     "collapsed": true, 
     "input": [], 
     "language": "python", 
     "outputs": []
    }
   ]
  }
 ]
}