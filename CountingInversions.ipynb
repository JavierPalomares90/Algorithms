{
 "metadata": {
  "name": "",
  "signature": "sha256:7207e16d97e248d73c5bbecd4dcb1263e65435a2e8421d22df43e27fe7044691"
 },
 "nbformat": 3,
 "nbformat_minor": 0,
 "worksheets": [
  {
   "cells": [
    {
     "cell_type": "code",
     "collapsed": false,
     "input": [
      "import math\n",
      "from pylab import *\n",
      "from numpy import *\n",
      "f = open('IntegerArray.txt')\n",
      "arraySize = 100000\n",
      "array = np.zeros(arraySize)\n",
      "for i in xrange(arraySize):\n",
      "    array[i] = int(f.readline())\n",
      "A,inversions = SortAndCount(array,arraySize)\n",
      "print inversions"
     ],
     "language": "python",
     "metadata": {},
     "outputs": [
      {
       "output_type": "stream",
       "stream": "stdout",
       "text": [
        "2407905288\n"
       ]
      }
     ],
     "prompt_number": 6
    },
    {
     "cell_type": "code",
     "collapsed": true,
     "input": [
      "def SortAndCount(array,size):\n",
      "    if size == 1:\n",
      "        return array,0;\n",
      "    else:\n",
      "        b,x = SortAndCount(array[:int(size/2)],int(size/2))\n",
      "        c,y = SortAndCount(array[int(size/2):],size - int(size/2))\n",
      "        d,z = CountSplitInv(array,size)\n",
      "        return d,x+y+z\n",
      "def CountSplitInv(array,size):\n",
      "    inversions = 0\n",
      "    halfLen = int(size/2)\n",
      "    b = sorted(array[:halfLen])\n",
      "    c = sorted(array[halfLen:])\n",
      "    d = np.zeros(size);\n",
      "    i = 0\n",
      "    j = 0\n",
      "    k = 0\n",
      "    halfLen = len(b)\n",
      "    latterLen = len(c)\n",
      "    while (i < halfLen or j < latterLen):\n",
      "        if(i == halfLen):\n",
      "            d[k] = c[j]\n",
      "            j+=1\n",
      "        elif(j == latterLen):\n",
      "            d[k] = b[i]\n",
      "            i+=1\n",
      "    #while(k < size and i < halfLen and j < latterLen):\n",
      "        elif(b[i] < c[j]):\n",
      "            d[k] = b[i]\n",
      "            i+=1\n",
      "        else:\n",
      "            d[k] = c[j]\n",
      "            j+=1\n",
      "            inversions += halfLen-i\n",
      "        k += 1\n",
      "    return d, inversions"
     ],
     "language": "python",
     "metadata": {},
     "outputs": [],
     "prompt_number": 5
    },
    {
     "cell_type": "code",
     "collapsed": true,
     "input": [
      "from IPython.core.debugger import Pdb"
     ],
     "language": "python",
     "metadata": {},
     "outputs": [],
     "prompt_number": 8
    },
    {
     "cell_type": "code",
     "collapsed": true,
     "input": [
      "def count_inversions(source):\n",
      "    if len(source) <= 1:\n",
      "        return 0, source\n",
      "    \n",
      "    mid = len(source) // 2\n",
      "    left = source[:mid]\n",
      "    right = source[mid:]\n",
      "    \n",
      "    countLeft, left = count_inversions(left)\n",
      "    countRight, right = count_inversions(right)\n",
      "    \n",
      "    countMerged, merged = merge_and_count(left, right)\n",
      "    \n",
      "    return countLeft + countRight + countMerged, merged\n",
      "\n",
      "def merge_and_count(left, right):\n",
      "    merged = []\n",
      "    i, j = 0, 0\n",
      "    count = 0\n",
      "    \n",
      "    while i < len(left) and j < len(right):\n",
      "        if left[i] < right[j]:\n",
      "            merged.append(left[i])\n",
      "            i += 1\n",
      "        else:\n",
      "            merged.append(right[j])\n",
      "            j += 1\n",
      "            count += len(left) - i\n",
      "    \n",
      "    while i < len(left):\n",
      "        merged.append(left[i])\n",
      "        i += 1\n",
      "        \n",
      "    while j < len(right):\n",
      "        merged.append(right[j])\n",
      "        j += 1\n",
      "               \n",
      "    return count, merged"
     ],
     "language": "python",
     "metadata": {},
     "outputs": [],
     "prompt_number": 1
    }
   ],
   "metadata": {}
  }
 ]
}