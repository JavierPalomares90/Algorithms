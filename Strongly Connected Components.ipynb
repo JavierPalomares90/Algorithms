{
 "metadata": {
  "name": "",
  "signature": "sha256:0e71b6056c0350a7ffb7ffa184050b77e36c6504cfff4c0d7a2231520d952e53"
 },
 "nbformat": 3,
 "nbformat_minor": 0,
 "worksheets": [
  {
   "cells": [
    {
     "cell_type": "code",
     "collapsed": true,
     "input": [
      "class edge:\n",
      "    def __init__(self):\n",
      "        self.tail = 0\n",
      "        self.head = 0\n",
      "class vertex:\n",
      "    def __init__(self):\n",
      "        # will keep track of edges going out of vertices\n",
      "        self.edges = []\n",
      "        self.explored = False\n",
      "        self.leader = 0\n",
      "        self.label = 0"
     ],
     "language": "python",
     "metadata": {},
     "outputs": []
    },
    {
     "cell_type": "code",
     "collapsed": true,
     "input": [
      "import math\n",
      "from pylab import *\n",
      "from numpy import *\n",
      "\n",
      "numEdges = 5105043\n",
      "numVertices = 875714\n",
      "edges = [edge()] * numEdges\n",
      "vertices = [vertex()] * numVertices\n",
      "reversedEdges = [edge()] * numEdges\n",
      "reversedVertices = [vertex()] * numVertices\n",
      "f = open('SCC.txt')\n",
      "i = 0\n",
      "for line in f:\n",
      "    l = line.split()\n",
      "    tail = int(l[0])\n",
      "    head = int(l[1])\n",
      "    e = edge()\n",
      "    e.tail = tail\n",
      "    e.head = head\n",
      "    edges[i] = e;\n",
      "    re = edge()\n",
      "    re.tail = head\n",
      "    re.head = tail\n",
      "    reversedEdges[i] = re\n",
      "    # tails are 1 indexed, have to correct for it\n",
      "    # vertices are keeping track of the edges coming out from it\n",
      "    vTail = vertex()\n",
      "    rvTail = vertex()\n",
      "    \n",
      "    vHead = vertex()\n",
      "    rvHead = vertex()\n",
      "    \n",
      "    oldEdges = vertices[tail-1].edges\n",
      "    oldEdges.append(e)\n",
      "    vTail.edges = oldEdges\n",
      "    vTail.label = tail\n",
      "    vHead.label = head\n",
      "    vertices[tail-1] = vTail\n",
      "    vertices[head-1] = vHead\n",
      "    \n",
      "    roldEdges = reversedVertices[head-1].edges\n",
      "    roldEdges.append(re)\n",
      "    rvTail.edges = roldEdges\n",
      "    rvTail.label = head\n",
      "    rvHead.label = tail\n",
      "    reversedVertices[head-1] = rvTail\n",
      "    reversedVertices[tail-1] = rvHead\n",
      "    \n",
      "    i = i+1"
     ],
     "language": "python",
     "metadata": {},
     "outputs": []
    },
    {
     "cell_type": "code",
     "collapsed": true,
     "input": [
      "def FirstDFSLoop(vertices,edges):\n",
      "    global t\n",
      "    t = 0\n",
      "    global s\n",
      "    for i in reversed(xrange(numVertices)):\n",
      "        if(not vertices[i].explored):\n",
      "            s = vertices[i]\n",
      "            DFS(vertices,edges,i)\n",
      "\n",
      "def DFS(vertices,edges,i):\n",
      "    global s\n",
      "    global t\n",
      "    global finishingTimes\n",
      "    vertices[i].leader = s\n",
      "    vertices[i].explored = True;\n",
      "    oldIndex = i\n",
      "    for j in xrange(numEdges):\n",
      "        # vertices are zero indexed!!!\n",
      "        head = edges[j].head\n",
      "        if(not vertices[head-1].explored):\n",
      "            DFS(vertices,edges,head-1)\n",
      "    finishingTimes[t] = oldIndex\n",
      "    t= t + 1\n",
      "    vertices[oldIndex].finishingTime = t\n",
      "    \n",
      "def SecondDFSLoop(vertices,edges):\n",
      "    global t\n",
      "    t = 0\n",
      "    global s\n",
      "    global finishingTimes\n",
      "    i = 0\n",
      "    for i in xrange(len(finishingTimes)):\n",
      "        vertexIndex = finishingTimes[i]\n",
      "        if(not vertices[vertexIndex].explored):\n",
      "            s = vertices[i]\n",
      "            DFS(vertices,edges,i)\n",
      "def GetSCCs(vertices):\n",
      "    leaders = [0] * numVertices\n",
      "    i = 0\n",
      "    for i in xrange(numVertices):\n",
      "        leaderIndex = vertices[i].leader.label - 1\n",
      "        leaders[leaderIndex] += 1\n",
      "    sorted(leaders,reverse=True)\n",
      "    return leaders"
     ],
     "language": "python",
     "metadata": {},
     "outputs": []
    },
    {
     "cell_type": "code",
     "collapsed": true,
     "input": [
      "def KosarajusAlgorithm(vertices,edges,reversedVertices,reversedEdges):\n",
      "    # first pass through the loop\n",
      "    FirstDFSLoop(reversedVertices,reversedEdges)\n",
      "    SecondDFSLoop(vertices,edges)\n",
      "    sccSizes = GetSCCs(vertices)\n",
      "    i = 0\n",
      "    for i in xrange(5):\n",
      "        print sccSizes[i]\n",
      "    "
     ],
     "language": "python",
     "metadata": {},
     "outputs": []
    },
    {
     "cell_type": "code",
     "collapsed": true,
     "input": [
      "finishingTimes = [0] * numVertices\n",
      "t = 0\n",
      "s = 0\n",
      "i = 0"
     ],
     "language": "python",
     "metadata": {},
     "outputs": []
    },
    {
     "cell_type": "code",
     "collapsed": true,
     "input": [
      "KosarajusAlgorithm(vertices,edges,reversedVertices,reversedEdges)"
     ],
     "language": "python",
     "metadata": {},
     "outputs": []
    },
    {
     "cell_type": "code",
     "collapsed": false,
     "input": [
      "for i in xrange(numVertices):\n",
      "    vertices[i].explored = False\n",
      "    reversedVertices[i].explored = False"
     ],
     "language": "python",
     "metadata": {},
     "outputs": [
      {
       "ename": "NameError",
       "evalue": "name 'vertices' is not defined",
       "output_type": "pyerr",
       "traceback": [
        "\u001b[0;31m---------------------------------------------------------------------------\u001b[0m\n\u001b[0;31mNameError\u001b[0m                                 Traceback (most recent call last)",
        "\u001b[0;32m/Users/Javier/Dropbox/Algorithms/<ipython-input-8-60989ed71371>\u001b[0m in \u001b[0;36m<module>\u001b[0;34m()\u001b[0m\n\u001b[1;32m      1\u001b[0m \u001b[0;32mfor\u001b[0m \u001b[0mi\u001b[0m \u001b[0;32min\u001b[0m \u001b[0mxrange\u001b[0m\u001b[0;34m(\u001b[0m\u001b[0mnumVertices\u001b[0m\u001b[0;34m)\u001b[0m\u001b[0;34m:\u001b[0m\u001b[0;34m\u001b[0m\u001b[0m\n\u001b[0;32m----> 2\u001b[0;31m     \u001b[0mvertices\u001b[0m\u001b[0;34m[\u001b[0m\u001b[0mi\u001b[0m\u001b[0;34m]\u001b[0m\u001b[0;34m.\u001b[0m\u001b[0mexplored\u001b[0m \u001b[0;34m=\u001b[0m \u001b[0mFalse\u001b[0m\u001b[0;34m\u001b[0m\u001b[0m\n\u001b[0m\u001b[1;32m      3\u001b[0m     \u001b[0mreversedVertices\u001b[0m\u001b[0;34m[\u001b[0m\u001b[0mi\u001b[0m\u001b[0;34m]\u001b[0m\u001b[0;34m.\u001b[0m\u001b[0mexplored\u001b[0m \u001b[0;34m=\u001b[0m \u001b[0mFalse\u001b[0m\u001b[0;34m\u001b[0m\u001b[0m\n",
        "\u001b[0;31mNameError\u001b[0m: name 'vertices' is not defined"
       ]
      }
     ],
     "prompt_number": 8
    },
    {
     "cell_type": "code",
     "collapsed": false,
     "input": [
      "vertices"
     ],
     "language": "python",
     "metadata": {},
     "outputs": []
    },
    {
     "cell_type": "code",
     "collapsed": true,
     "input": [
      "del vertices\n",
      "del reversedEdges\n",
      "del reversedVertices\n",
      "del edges"
     ],
     "language": "python",
     "metadata": {},
     "outputs": [],
     "prompt_number": 14
    },
    {
     "cell_type": "code",
     "collapsed": false,
     "input": [
      "len(edges)"
     ],
     "language": "python",
     "metadata": {},
     "outputs": [
      {
       "ename": "NameError",
       "evalue": "name 'edges' is not defined",
       "output_type": "pyerr",
       "traceback": [
        "\u001b[0;31m---------------------------------------------------------------------------\u001b[0m\n\u001b[0;31mNameError\u001b[0m                                 Traceback (most recent call last)",
        "\u001b[0;32m/Users/Javier/Dropbox/Algorithms/<ipython-input-32-795f1b57010a>\u001b[0m in \u001b[0;36m<module>\u001b[0;34m()\u001b[0m\n\u001b[0;32m----> 1\u001b[0;31m \u001b[0mlen\u001b[0m\u001b[0;34m(\u001b[0m\u001b[0medges\u001b[0m\u001b[0;34m)\u001b[0m\u001b[0;34m\u001b[0m\u001b[0m\n\u001b[0m",
        "\u001b[0;31mNameError\u001b[0m: name 'edges' is not defined"
       ]
      }
     ],
     "prompt_number": 32
    },
    {
     "cell_type": "code",
     "collapsed": false,
     "input": [
      "edges[2].tail"
     ],
     "language": "python",
     "metadata": {},
     "outputs": [
      {
       "metadata": {},
       "output_type": "pyout",
       "prompt_number": 21,
       "text": [
        "1"
       ]
      }
     ],
     "prompt_number": 21
    },
    {
     "cell_type": "code",
     "collapsed": false,
     "input": [
      "a = 2\n",
      "print a"
     ],
     "language": "python",
     "metadata": {},
     "outputs": [
      {
       "output_type": "stream",
       "stream": "stdout",
       "text": [
        "2\n"
       ]
      }
     ],
     "prompt_number": 18
    },
    {
     "cell_type": "code",
     "collapsed": false,
     "input": [
      "print len(vertices)"
     ],
     "language": "python",
     "metadata": {},
     "outputs": [
      {
       "output_type": "stream",
       "stream": "stdout",
       "text": [
        "875714\n"
       ]
      }
     ],
     "prompt_number": 22
    },
    {
     "cell_type": "code",
     "collapsed": true,
     "input": [
      "for i in xrange(numVertices):\n",
      "    vertices[i].explored = False\n",
      "    reversedVertices[i].explored = False"
     ],
     "language": "python",
     "metadata": {},
     "outputs": [],
     "prompt_number": 12
    }
   ],
   "metadata": {}
  }
 ]
}